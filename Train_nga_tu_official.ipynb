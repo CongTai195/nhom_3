{
  "nbformat": 4,
  "nbformat_minor": 0,
  "metadata": {
    "colab": {
      "name": "hello.ipynb",
      "provenance": [],
      "collapsed_sections": []
    },
    "kernelspec": {
      "name": "python3",
      "display_name": "Python 3"
    },
    "language_info": {
      "name": "python"
    },
    "accelerator": "GPU"
  },
  "cells": [
    {
      "cell_type": "code",
      "metadata": {
        "id": "yuZlqfFFMEe2"
      },
      "source": [
        "#1\n",
        "from google.colab import drive\n",
        "drive.mount('/content/gdrive')\n",
        "!ln -s /content/gdrive/My\\ Drive/ /mydrive\n",
        "!ls /mydrive"
      ],
      "execution_count": null,
      "outputs": []
    },
    {
      "cell_type": "code",
      "metadata": {
        "id": "AUwgEGC2MclD"
      },
      "source": [
        "#2\n",
        "!git clone https://github.com/AlexeyAB/darknet"
      ],
      "execution_count": null,
      "outputs": []
    },
    {
      "cell_type": "code",
      "metadata": {
        "id": "xaDZN7PlMe-i"
      },
      "source": [
        "#3\n",
        "%cd darknet\n",
        "!sed -i 's/OPENCV=0/OPENCV=1/' Makefile\n",
        "!sed -i 's/GPU=0/GPU=1/' Makefile\n",
        "!sed -i 's/CUDNN=0/CUDNN=1/' Makefile\n",
        "!make"
      ],
      "execution_count": null,
      "outputs": []
    },
    {
      "cell_type": "code",
      "metadata": {
        "id": "Jilvj6uPNHvW"
      },
      "source": [
        "#4\n",
        "!cp cfg/yolov3-tiny.cfg cfg/yolov3_training.cfg"
      ],
      "execution_count": null,
      "outputs": []
    },
    {
      "cell_type": "code",
      "metadata": {
        "id": "kAcTHBvnNK9N"
      },
      "source": [
        "#5\n",
        "!sed -i 's/batch=1/batch=2/' cfg/yolov3_training.cfg\n",
        "!sed -i 's/subdivisions=1/subdivisions=8/' cfg/yolov3_training.cfg\n",
        "!sed -i 's/max_batches = 500200/max_batches = 6000/' cfg/yolov3_training.cfg\n",
        "# !sed -i '610 s@classes=80@classes=3@' cfg/yolov3_training.cfg\n",
        "# !sed -i '696 s@classes=80@classes=3@' cfg/yolov3_training.cfg\n",
        "# !sed -i '783 s@classes=80@classes=3@' cfg/yolov3_training.cfg\n",
        "# !sed -i '603 s@filters=255@filters=24@' cfg/yolov3_training.cfg\n",
        "# !sed -i '689 s@filters=255@filters=24@' cfg/yolov3_training.cfg\n",
        "# !sed -i '776 s@filters=255@filters=24@' cfg/yolov3_training.cfg\n",
        "!sed -i '135 s@classes=80@classes=3@' cfg/yolov3_training.cfg\n",
        "!sed -i '177 s@classes=80@classes=3@' cfg/yolov3_training.cfg\n",
        "!sed -i '127 s@filters=255@filters=24@' cfg/yolov3_training.cfg\n",
        "!sed -i '171 s@filters=255@filters=24@' cfg/yolov3_training.cfg\n",
        "# !sed -i '776 s@filters=255@filters=24@' cfg/yolov3_training.cfg"
      ],
      "execution_count": null,
      "outputs": []
    },
    {
      "cell_type": "code",
      "metadata": {
        "id": "mBG7yHHfNPGn"
      },
      "source": [
        "#6\n",
        "!mkdir \"/mydrive/yolov3\""
      ],
      "execution_count": null,
      "outputs": []
    },
    {
      "cell_type": "code",
      "metadata": {
        "id": "O3txX94BNQgB"
      },
      "source": [
        "#7\n",
        "!echo \"traffic lights\" > data/obj.names\n",
        "!echo \"road markers\" > data/obj.names\n",
        "!echo \"streets\" > data/obj.names\n",
        "!echo -e 'classes= 3\\ntrain = data/train.txt\\nvalid = data/test.txt\\names = data/obj.names\\nbackup = /mydrive/yolov3' > data/obj.data\n",
        "!mkdir data/obj"
      ],
      "execution_count": null,
      "outputs": []
    },
    {
      "cell_type": "code",
      "metadata": {
        "id": "ngWnUwVnNcsQ"
      },
      "source": [
        "#8\n",
        "!wget https://pjreddie.com/media/files/darknet53.conv.74"
      ],
      "execution_count": null,
      "outputs": []
    },
    {
      "cell_type": "code",
      "metadata": {
        "id": "FBONlIxeNgrm"
      },
      "source": [
        "#9\n",
        "!unzip /mydrive/yolov3/data_3000 -d data/obj"
      ],
      "execution_count": null,
      "outputs": []
    },
    {
      "cell_type": "code",
      "metadata": {
        "id": "TMxCG_61OUe-"
      },
      "source": [
        "#10\n",
        "import glob\n",
        "images_list = glob.glob(\"data/obj/data_3000/*.jpg\")\n",
        "print(images_list)"
      ],
      "execution_count": null,
      "outputs": []
    },
    {
      "cell_type": "code",
      "metadata": {
        "id": "y84NUIv8OY74"
      },
      "source": [
        "#11\n",
        "file = open(\"data/train.txt\", \"w\")\n",
        "file.write(\"\\n\".join(images_list))\n",
        "file.close()"
      ],
      "execution_count": null,
      "outputs": []
    },
    {
      "cell_type": "code",
      "metadata": {
        "id": "NaoTiFexObYT"
      },
      "source": [
        "#12\n",
        "!./darknet detector train data/obj.data cfg/yolov3_training.cfg darknet53.conv.74 -dont_show"
      ],
      "execution_count": null,
      "outputs": []
    }
  ]
}